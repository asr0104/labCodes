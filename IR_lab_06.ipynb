{
 "cells": [
  {
   "cell_type": "code",
   "execution_count": 4,
   "metadata": {},
   "outputs": [
    {
     "name": "stdout",
     "output_type": "stream",
     "text": [
      "                        precision    recall  f1-score   support\n",
      "\n",
      "           alt.atheism       0.96      0.57      0.72       319\n",
      "         comp.graphics       0.93      0.88      0.91       389\n",
      "          misc.forsale       0.98      0.89      0.94       390\n",
      "               sci.med       0.92      0.81      0.86       396\n",
      "soc.religion.christian       0.52      0.99      0.68       398\n",
      "    talk.politics.misc       0.98      0.59      0.74       310\n",
      "\n",
      "              accuracy                           0.80      2202\n",
      "             macro avg       0.88      0.79      0.81      2202\n",
      "          weighted avg       0.88      0.80      0.81      2202\n",
      "\n",
      "                        precision    recall  f1-score   support\n",
      "\n",
      "           alt.atheism       0.55      0.87      0.67       319\n",
      "         comp.graphics       0.77      0.77      0.77       389\n",
      "          misc.forsale       0.83      0.74      0.78       390\n",
      "               sci.med       0.85      0.58      0.69       396\n",
      "soc.religion.christian       0.78      0.80      0.79       398\n",
      "    talk.politics.misc       0.80      0.75      0.78       310\n",
      "\n",
      "              accuracy                           0.75      2202\n",
      "             macro avg       0.76      0.75      0.75      2202\n",
      "          weighted avg       0.77      0.75      0.75      2202\n",
      "\n",
      "                        precision    recall  f1-score   support\n",
      "\n",
      "           alt.atheism       0.93      0.56      0.70       319\n",
      "         comp.graphics       0.65      0.87      0.74       389\n",
      "          misc.forsale       0.76      0.96      0.85       390\n",
      "               sci.med       0.83      0.56      0.67       396\n",
      "soc.religion.christian       0.66      0.76      0.71       398\n",
      "    talk.politics.misc       0.84      0.75      0.79       310\n",
      "\n",
      "              accuracy                           0.75      2202\n",
      "             macro avg       0.78      0.74      0.74      2202\n",
      "          weighted avg       0.77      0.75      0.74      2202\n",
      "\n"
     ]
    }
   ],
   "source": [
    "import sklearn.datasets as skd\n",
    "\n",
    "categories = ['alt.atheism', 'soc.religion.christian','comp.graphics', 'sci.med','misc.forsale','talk.politics.misc']\n",
    "news_train = skd.load_files('C:/Users/abhijeet/Downloads/New folder/20news-bydate/20news-bydate-train', categories= categories, encoding= 'ISO-8859-1')\n",
    "news_test = skd.load_files('C:/Users/abhijeet/Downloads/New folder/20news-bydate/20news-bydate-test',categories= categories, encoding= 'ISO-8859-1')\n",
    "\n",
    "from sklearn.pipeline import Pipeline\n",
    "from sklearn.feature_extraction.text import TfidfVectorizer\n",
    "from sklearn.naive_bayes import MultinomialNB\n",
    "from sklearn.neighbors import KNeighborsClassifier\n",
    "from sklearn.neighbors import NearestCentroid\n",
    "\n",
    "text_clfNb = Pipeline([('vect', TfidfVectorizer()), \n",
    "                      ('clf', MultinomialNB()) ])\n",
    "text_clfKn = Pipeline([('vect', TfidfVectorizer()), \n",
    "                      ('clf', KNeighborsClassifier(n_neighbors=3)) ])\n",
    "text_clfRc = Pipeline([('vect', TfidfVectorizer()), \n",
    "                      ('clf', NearestCentroid()) ])\n",
    "\n",
    "\n",
    "# train the model\n",
    "text_clfNb.fit(news_train.data, news_train.target)\n",
    "text_clfKn.fit(news_train.data, news_train.target)\n",
    "text_clfRc.fit(news_train.data, news_train.target)\n",
    "# Predict the test cases\n",
    "predictedNb = text_clfNb.predict(news_test.data)\n",
    "predictedKn = text_clfKn.predict(news_test.data)\n",
    "predictedRc = text_clfRc.predict(news_test.data)\n",
    "\n",
    "from sklearn import metrics\n",
    "from sklearn.metrics import accuracy_score\n",
    "import numpy as np\n",
    "\n",
    "print(metrics.classification_report(news_test.target, predictedNb, target_names=news_test.target_names))\n",
    "\n",
    "print(metrics.classification_report(news_test.target, predictedKn, target_names=news_test.target_names))\n",
    "\n",
    "print(metrics.classification_report(news_test.target, predictedRc, target_names=news_test.target_names))"
   ]
  },
  {
   "cell_type": "code",
   "execution_count": null,
   "metadata": {},
   "outputs": [],
   "source": []
  },
  {
   "cell_type": "code",
   "execution_count": null,
   "metadata": {},
   "outputs": [],
   "source": [
    "\n"
   ]
  },
  {
   "cell_type": "code",
   "execution_count": null,
   "metadata": {},
   "outputs": [],
   "source": []
  },
  {
   "cell_type": "code",
   "execution_count": null,
   "metadata": {},
   "outputs": [],
   "source": []
  },
  {
   "cell_type": "code",
   "execution_count": null,
   "metadata": {},
   "outputs": [],
   "source": []
  },
  {
   "cell_type": "code",
   "execution_count": null,
   "metadata": {},
   "outputs": [],
   "source": []
  },
  {
   "cell_type": "code",
   "execution_count": null,
   "metadata": {},
   "outputs": [],
   "source": []
  }
 ],
 "metadata": {
  "kernelspec": {
   "display_name": "Python 3",
   "language": "python",
   "name": "python3"
  },
  "language_info": {
   "codemirror_mode": {
    "name": "ipython",
    "version": 3
   },
   "file_extension": ".py",
   "mimetype": "text/x-python",
   "name": "python",
   "nbconvert_exporter": "python",
   "pygments_lexer": "ipython3",
   "version": "3.7.3"
  }
 },
 "nbformat": 4,
 "nbformat_minor": 2
}
